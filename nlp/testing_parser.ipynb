{
 "cells": [
  {
   "cell_type": "code",
   "execution_count": null,
   "metadata": {
    "collapsed": false
   },
   "outputs": [],
   "source": [
    "import numpy as np\n",
    "import nltk\n",
    "import os\n",
    "from preprocessing.parser import Book\n",
    "from mcmc import MCMC\n",
    "import matplotlib.pyplot as plt\n",
    "plt.style.use(\"fivethirtyeight\")\n",
    "%matplotlib inline"
   ]
  },
  {
   "cell_type": "code",
   "execution_count": null,
   "metadata": {
    "collapsed": false
   },
   "outputs": [],
   "source": [
    "exclude_file = \"metadata.tsv\"\n",
    "directory = \"data/dickens/\"\n",
    "files = os.listdir(directory)\n",
    "files.remove('metadata.tsv')\n",
    "\n",
    "for f in files:\n",
    "    book = Book(directory+f)\n",
    "    break"
   ]
  },
  {
   "cell_type": "code",
   "execution_count": null,
   "metadata": {
    "collapsed": false
   },
   "outputs": [],
   "source": [
    "book.author\n",
    "book.title\n",
    "book.text"
   ]
  },
  {
   "cell_type": "code",
   "execution_count": null,
   "metadata": {
    "collapsed": false,
    "scrolled": true
   },
   "outputs": [],
   "source": [
    "word_counts = book.count_words()\n",
    "word_counts.head()"
   ]
  },
  {
   "cell_type": "code",
   "execution_count": null,
   "metadata": {
    "collapsed": false
   },
   "outputs": [],
   "source": [
    "from sklearn.feature_extraction.text import CountVectorizer\n",
    "\n",
    "# make a vocabulary based on the word counts\n",
    "vocab = np.array(word_counts.index[:2000])\n",
    "\n",
    "cv = CountVectorizer()\n",
    "word2index = cv.fit(vocab).vocabulary_\n",
    "index2word = {v: k for k, v in word2index.items()}\n",
    "index2word[max(index2word.keys())+1] = \"<unknown>\" # introduce unknown token for non-vocab words"
   ]
  },
  {
   "cell_type": "code",
   "execution_count": null,
   "metadata": {
    "collapsed": false
   },
   "outputs": [],
   "source": [
    "# map all the words to indices based on dictionary above\n",
    "mapsi = map(lambda x: word2index[x] if x in word2index.keys() else max(index2word.keys())+1, book.word_list)\n",
    "mapsi = list(mapsi)"
   ]
  },
  {
   "cell_type": "code",
   "execution_count": null,
   "metadata": {
    "collapsed": false,
    "scrolled": true
   },
   "outputs": [],
   "source": [
    "# run the MCMC for the book\n",
    "\n",
    "mcmc = MCMC(mapsi)\n",
    "\n",
    "freq_dist = mcmc.estimate_invariant()\n",
    "freq_dist"
   ]
  },
  {
   "cell_type": "code",
   "execution_count": null,
   "metadata": {
    "collapsed": false
   },
   "outputs": [],
   "source": [
    "# I think this might be a bit too sticky to frequent words to be able to pick up mor nuanced stuff. \n",
    "# probably need to rethink transition probabilities\n",
    "for k in freq_dist:\n",
    "    try:\n",
    "        print(index2word[k])\n",
    "    except KeyError:\n",
    "        print(\"<unknown>\")"
   ]
  }
 ],
 "metadata": {
  "anaconda-cloud": {},
  "kernelspec": {
   "display_name": "Python [conda root]",
   "language": "python",
   "name": "conda-root-py"
  },
  "language_info": {
   "codemirror_mode": {
    "name": "ipython",
    "version": 3
   },
   "file_extension": ".py",
   "mimetype": "text/x-python",
   "name": "python",
   "nbconvert_exporter": "python",
   "pygments_lexer": "ipython3",
   "version": "3.5.2"
  }
 },
 "nbformat": 4,
 "nbformat_minor": 2
}
